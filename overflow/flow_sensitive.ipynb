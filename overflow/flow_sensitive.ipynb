{
 "cells": [
  {
   "cell_type": "code",
   "execution_count": 1,
   "metadata": {},
   "outputs": [],
   "source": [
    "\"\"\"\n",
    "if x >= 4:          (4,5,6,7)\n",
    "    if x >= 5:\n",
    "        x+=1        (4,6,7,8)\n",
    "    else:           \n",
    "        x+=5        (9,6,7,8)       \n",
    "        \n",
    "else:               (0,1,2,3)\n",
    "    if x >= 2:       \n",
    "        x+=5        (0,1,7,8)\n",
    "\n",
    "return x        (0,1,6,7,8,9)\n",
    "\"\"\"\n",
    "\n",
    "from qiskit import QuantumCircuit, ClassicalRegister, QuantumRegister, transpile\n",
    "from qiskit_aer import AerSimulator, Aer\n",
    "from fpqs7 import fpqs_circ\n",
    "import matplotlib.pyplot as plt\n",
    "from QArithmetic import add, cadd, sub"
   ]
  },
  {
   "cell_type": "code",
   "execution_count": 2,
   "metadata": {},
   "outputs": [
    {
     "data": {
      "text/plain": [
       "<qiskit.circuit.instructionset.InstructionSet at 0x7f8e4db2c4f0>"
      ]
     },
     "execution_count": 2,
     "metadata": {},
     "output_type": "execute_result"
    }
   ],
   "source": [
    "\n",
    "# Registers and circuit.\n",
    "b = QuantumRegister(4)\n",
    "x = QuantumRegister(4)\n",
    "anc = QuantumRegister(4)\n",
    "cb = ClassicalRegister(4)\n",
    "cx = ClassicalRegister(4)\n",
    "canc = ClassicalRegister(4)\n",
    "qc = QuantumCircuit(b, x, name=\"+4\")# cc, cx, cb, cm, canc)\n",
    "qc_new = QuantumCircuit(b, x, anc, cx)#, cb, cm, canc, cc)#cc, cx, cb, cm, canc)\n",
    "\n",
    "# Init\n",
    "qc_new.h(x[0]) # x = from 0000 to 0111 \n",
    "qc_new.h(x[1])\n",
    "qc_new.h(x[2])\n",
    "\n",
    "\n",
    "qc_new.x(b[2]) # b = 0100\n",
    "\n",
    "# x+4, in anc[0] goes the overflow\n",
    "add(qc, b, x, 3)\n",
    "\n",
    "qc_inv = qc.inverse()\n",
    "qc_new.append(qc, range(0, len(qc.qubits)), range(0, len(qc.clbits)))\n",
    "\n",
    "# cnot\n",
    "qc_new.cx(x[3], anc[0])\n",
    "\n",
    "# revert the +4\n",
    "qc_new.append(qc_inv, range(0, len(qc.qubits)), range(0, len(qc.clbits)))\n",
    "\n",
    "# controlled +3 based on a1\n",
    "qc_new.x(b[0])\n",
    "qc_new.x(b[1])\n",
    "qc_new.x(b[2])\n",
    "\n",
    "qc = QuantumCircuit(b, x, anc, name=\"c+3\")\n",
    "cadd(qc, anc[0], b, x, 3)\n",
    "\n",
    "qc_new.append(qc, range(0, len(qc.qubits)), range(0, len(qc.clbits)))\n",
    "\n",
    "qc_inv = qc.inverse()\n",
    "\n",
    "qc_new.cx(x[3], anc[1])\n",
    "\n",
    "qc_new.append(qc_inv, range(0, len(qc.qubits)), range(0, len(qc.clbits)))\n",
    "\n",
    "# nested if +1\n",
    "qc_new.x(b[1])\n",
    "\n",
    "qc = QuantumCircuit(b, x, name=\"cc+1\")\n",
    "add(qc, b, x, 3)\n",
    "\n",
    "qc_ctrl = qc.to_gate().control(2)\n",
    "\n",
    "qc_new.append(qc_ctrl, list(range(len(qc.qubits), len(qc.qubits)+2)) + list(range(0, len(qc.qubits))), range(0, len(qc.clbits)))\n",
    "\n",
    "# nested if +5\n",
    "qc_new.x(b[2])\n",
    "\n",
    "qc_new.x(anc[1])\n",
    "\n",
    "qc = QuantumCircuit(b, x, name=\"cc+5\")\n",
    "add(qc, b, x, 3)\n",
    "\n",
    "qc_ctrl = qc.to_gate().control(2)\n",
    "\n",
    "qc_new.append(qc_ctrl, list(range(len(qc.qubits), len(qc.qubits)+2)) + list(range(0, len(qc.qubits))), range(0, len(qc.clbits)))\n",
    "\n",
    "# controlled +6\n",
    "qc_new.x(b[0])\n",
    "qc_new.x(b[1])\n",
    "\n",
    "qc_new.x(anc[0])\n",
    "\n",
    "qc = QuantumCircuit(b, x, name=\"c+6\")\n",
    "add(qc, b, x, 3)\n",
    "\n",
    "qc_ctrl = qc.to_gate().control(1)\n",
    "qc_ctrl_inv = qc_ctrl.inverse()\n",
    "\n",
    "qc_new.append(qc_ctrl, list(range(len(qc.qubits), len(qc.qubits)+1)) + list(range(0, len(qc.qubits))), range(0, len(qc.clbits)))\n",
    "\n",
    "qc_new.cx(x[3], anc[2])\n",
    "\n",
    "qc_new.append(qc_ctrl_inv, list(range(len(qc.qubits), len(qc.qubits)+1)) + list(range(0, len(qc.qubits))), range(0, len(qc.clbits)))\n",
    "\n",
    "# nested if +5\n",
    "qc_new.x(b[0])\n",
    "qc_new.x(b[1])\n",
    "\n",
    "\n",
    "\n",
    "qc = QuantumCircuit(b, x, name=\"cc+5\")\n",
    "add(qc, b, x, 3)\n",
    "\n",
    "qc_ctrl = qc.to_gate().control(2)\n",
    "\n",
    "qc_new.append(qc_ctrl, list(range(len(qc.qubits), len(qc.qubits)+3, 2)) + list(range(0, len(qc.qubits))), range(0, len(qc.clbits)))\n",
    "\n",
    "qc_new.cx(x[3], anc[2])\n",
    "\n",
    "#fpqs\n",
    "def oracle(qc, num_qubits):\n",
    "    # oracle to observe if an overflow happened\n",
    "    qc.cx(7, qc.num_qubits-1)\n",
    "\n",
    "A = qc_new\n",
    "\n",
    "# Perform fixed-point quantum search\n",
    "fpqs_qc = fpqs_circ(oracle, .5, 4, A, 4, 6)\n",
    "qc_new.append(fpqs_qc, range(0, 12), range(0, 4))\n",
    "\n",
    "\n",
    "from collections import defaultdict\n",
    "counts = defaultdict(int)\n",
    "\n",
    "# print(qc_new)\n",
    "qc_new.measure(x, cx)"
   ]
  },
  {
   "cell_type": "code",
   "execution_count": 3,
   "metadata": {},
   "outputs": [
    {
     "name": "stdout",
     "output_type": "stream",
     "text": [
      "{'0001': 1, '0000': 1, '0111': 1, '0110': 1, '1001': 9, '1000': 17}\n"
     ]
    }
   ],
   "source": [
    "# perfect device simulation\n",
    "\n",
    "# Simulate the circuit.\n",
    "simulator = AerSimulator()\n",
    "qct = transpile(qc_new, simulator)\n",
    "# print(qc_new)\n",
    "\n",
    "result = Aer.get_backend('statevector_simulator').run(qct, shots=30).result()\n",
    "counts = result.get_counts()\n",
    "print(counts)"
   ]
  },
  {
   "cell_type": "code",
   "execution_count": 5,
   "metadata": {},
   "outputs": [
    {
     "name": "stdout",
     "output_type": "stream",
     "text": [
      "176769\n"
     ]
    }
   ],
   "source": [
    "from qiskit import QuantumCircuit\n",
    "from qiskit_ibm_runtime import QiskitRuntimeService, SamplerV2 as Sampler\n",
    "\n",
    "from qiskit_ibm_runtime import SamplerV2 as Sampler\n",
    "from qiskit_ibm_runtime.fake_provider import FakeManilaV2\n",
    "\n",
    "# Run the sampler job locally using FakeManilaV2\n",
    "# backend = FakeManilaV2()\n",
    "# QiskitRuntimeService.save_account(channel=\"ibm_quantum\", token=\"a2b04c4de5dd6d8ef709c96ed105c700486f574ff3f8022079e7ee7aa2f9103515d8793719893bda6898029a21891e83487d6d095d2c4d753d5926c525a2d46b\", overwrite=True, name=\"pz2\", set_as_default=True)\n",
    "# service = QiskitRuntimeService(name=\"pz2\")\n",
    "# backend = service.least_busy(operational=True, simulator=False)\n",
    "from qiskit.providers.fake_provider import GenericBackendV2\n",
    "backend = GenericBackendV2(12)\n",
    "\n",
    "transpiled_circuit = transpile(qc_new, backend)\n",
    "gate_count = transpiled_circuit.count_ops()\n",
    "print(sum(gate_count.values()))\n",
    "\n",
    "job = backend.run(transpiled_circuit)\n",
    "\n",
    "\n",
    "\n",
    "# from qiskit.transpiler.preset_passmanagers import generate_preset_pass_manager\n",
    "\n",
    "# # Create a new circuit with two qubits (first argument) and two classical\n",
    "# # bits (second argument)\n",
    "# qc = QuantumCircuit(2)\n",
    "# qc.h(0)\n",
    "# qc.cx(0, 1)\n",
    "\n",
    "# # Set up six different observables.\n",
    "# observables_labels = [\"ZZZZZZZZZZZZ\"]\n",
    "\n",
    "# from qiskit.quantum_info import SparsePauliOp\n",
    "# observables = [SparsePauliOp(label) for label in observables_labels]\n",
    "\n",
    "\n",
    "# pm = generate_preset_pass_manager(backend=backend, optimization_level=1)\n",
    "# isa_circuit = pm.run(qc_new)\n",
    "# observables = [\n",
    "#     observable.apply_layout(isa_circuit.layout) for observable in observables\n",
    "# ]\n",
    "\n",
    "# from qiskit.transpiler.preset_passmanagers import generate_preset_pass_manager\n",
    "# pm = generate_preset_pass_manager(backend=backend, optimization_level=1)\n",
    "# isa_bell = pm.run(qc_new)\n",
    "\n",
    "# sampler = Sampler(backend)\n",
    "\n",
    "# job = sampler.run([(isa_bell,)])\n",
    "# result = job.result()\n",
    "\n",
    "# sub: 63\n",
    "# mult: 113\n",
    "# div: 286\n",
    "# flow sens overflow: 176769 "
   ]
  },
  {
   "cell_type": "code",
   "execution_count": 12,
   "metadata": {},
   "outputs": [],
   "source": [
    "result = job.result()"
   ]
  },
  {
   "cell_type": "code",
   "execution_count": 15,
   "metadata": {},
   "outputs": [],
   "source": [
    "counts = result.get_counts()"
   ]
  },
  {
   "cell_type": "code",
   "execution_count": 17,
   "metadata": {},
   "outputs": [
    {
     "name": "stdout",
     "output_type": "stream",
     "text": [
      "{'1011': 41, '0001': 48, '1111': 31, '0000': 148, '0010': 96, '0100': 96, '0111': 23, '0011': 38, '1101': 28, '1110': 56, '1001': 38, '0101': 47, '1100': 84, '0110': 71, '1000': 104, '1010': 75}\n"
     ]
    },
    {
     "data": {
      "image/png": "[encoded data removed]",
      "text/plain": [
       "<Figure size 640x480 with 1 Axes>"
      ]
     },
     "execution_count": 17,
     "metadata": {},
     "output_type": "execute_result"
    }
   ],
   "source": [
    "from qiskit.visualization import plot_histogram\n",
    "print(counts)\n",
    "plot_histogram(counts)"
   ]
  },
  {
   "cell_type": "code",
   "execution_count": null,
   "metadata": {},
   "outputs": [],
   "source": [
    "print(dir(result))\n",
    "# pub_result = result[0]\n",
    "# print(f\" >> Counts for the meas output register: {pub_result.data.meas.get_counts()}\")"
   ]
  },
  {
   "cell_type": "code",
   "execution_count": null,
   "metadata": {},
   "outputs": [],
   "source": [
    "# Prepare the input circuit.\n",
    "from qiskit import QuantumCircuit\n",
    "\n",
    "bell = QuantumCircuit(2)\n",
    "bell.h(0)\n",
    "bell.cx(0, 1)\n",
    "bell.measure_all()\n",
    "\n",
    "# Execute the circuit\n",
    "from qiskit_ibm_runtime import SamplerV2 as Sampler\n",
    "from qiskit_ibm_runtime.fake_provider import FakeManilaV2\n",
    "from qiskit.providers.fake_provider import GenericBackendV2\n",
    "\n",
    "# Run the sampler job locally using FakeManilaV2\n",
    "backend = GenericBackendV2(12)\n",
    "\n",
    "from qiskit.transpiler.preset_passmanagers import generate_preset_pass_manager\n",
    "pm = generate_preset_pass_manager(backend=backend, optimization_level=1)\n",
    "isa_bell = pm.run(bell)\n",
    "\n",
    "sampler = Sampler(backend)\n",
    "\n",
    "job = sampler.run([(isa_bell,)])\n",
    "result = job.result()\n",
    "\n",
    "pub_result = result[0]\n",
    "# Get counts from the classical register \"meas\".\n",
    "print(f\" >> Counts for the meas output register: {pub_result.data.meas.get_counts()}\")"
   ]
  },
  {
   "cell_type": "code",
   "execution_count": null,
   "metadata": {},
   "outputs": [],
   "source": [
    "# noisy hardware simulation\n",
    "from qiskit_aer.noise import NoiseModel\n",
    "from qiskit.providers.fake_provider import GenericBackendV2\n",
    "from qiskit_algorithms.utils import algorithm_globals\n",
    "from qiskit_aer.primitives import Estimator as AerEstimator, Sampler as AerSampler\n",
    "\n",
    "coupling_map = [(i, i + 1) for i in range(qc_new.num_qubits-1)]\n",
    "device = GenericBackendV2(num_qubits=qc_new.num_qubits, coupling_map=coupling_map, seed=54)\n",
    "\n",
    "seed = 170\n",
    "algorithm_globals.random_seed = seed\n",
    "\n",
    "noise_model = NoiseModel.from_backend(device)\n",
    "\n",
    "sampler = AerSampler(\n",
    "    backend_options={\n",
    "        \"method\": \"density_matrix\",\n",
    "        \"coupling_map\": coupling_map,\n",
    "        \"noise_model\": noise_model,\n",
    "    },\n",
    "    run_options={\"seed\": seed, \"shots\": 12},\n",
    "    transpile_options={\"seed_transpiler\": seed},\n",
    ")\n",
    "\n",
    "job = sampler.run(qc_new, shots=12)\n",
    "\n",
    "dists = job.result().quasi_dists\n",
    "\n",
    "counts = {key: int(value * 12) for key, value in dists[0].items()}\n",
    "print(counts)"
   ]
  }
 ],
 "metadata": {
  "kernelspec": {
   "display_name": "Python 3",
   "language": "python",
   "name": "python3"
  },
  "language_info": {
   "codemirror_mode": {
    "name": "ipython",
    "version": 3
   },
   "file_extension": ".py",
   "mimetype": "text/x-python",
   "name": "python",
   "nbconvert_exporter": "python",
   "pygments_lexer": "ipython3",
   "version": "3.13.1"
  }
 },
 "nbformat": 4,
 "nbformat_minor": 2
}
