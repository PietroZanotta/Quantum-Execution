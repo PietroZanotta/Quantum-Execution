{
 "cells": [
  {
   "cell_type": "code",
   "execution_count": 20,
   "metadata": {},
   "outputs": [],
   "source": [
    "from qiskit import QuantumCircuit, ClassicalRegister, QuantumRegister, transpile\n",
    "from qiskit_aer import AerSimulator, Aer\n",
    "from QArithmetic import add, mult, div, sub, cadd\n",
    "from math import pi"
   ]
  },
  {
   "cell_type": "code",
   "execution_count": 35,
   "metadata": {},
   "outputs": [
    {
     "ename": "QiskitError",
     "evalue": "'One or more instructions cannot be converted to a gate. \"barrier\" is not a gate instruction'",
     "output_type": "error",
     "traceback": [
      "\u001b[0;31m---------------------------------------------------------------------------\u001b[0m",
      "\u001b[0;31mQiskitError\u001b[0m                               Traceback (most recent call last)",
      "\u001b[1;32m/home/pietro/Desktop/cu/qarithmetic/closest_prime.ipynb Cell 2\u001b[0m line \u001b[0;36m5\n\u001b[1;32m     <a href='vscode-notebook-cell:/home/pietro/Desktop/cu/qarithmetic/closest_prime.ipynb#W3sZmlsZQ%3D%3D?line=49'>50</a>\u001b[0m is_prime_qc \u001b[39m=\u001b[39m QuantumCircuit(a, b, c, name\u001b[39m=\u001b[39m\u001b[39m\"\u001b[39m\u001b[39m/ 2\u001b[39m\u001b[39m\"\u001b[39m)\n\u001b[1;32m     <a href='vscode-notebook-cell:/home/pietro/Desktop/cu/qarithmetic/closest_prime.ipynb#W3sZmlsZQ%3D%3D?line=51'>52</a>\u001b[0m div(is_prime_qc, a, b, c, \u001b[39m3\u001b[39m)\n\u001b[0;32m---> <a href='vscode-notebook-cell:/home/pietro/Desktop/cu/qarithmetic/closest_prime.ipynb#W3sZmlsZQ%3D%3D?line=53'>54</a>\u001b[0m is_prime_gate \u001b[39m=\u001b[39m is_prime_qc\u001b[39m.\u001b[39;49mto_gate()\u001b[39m.\u001b[39mcontrol(\u001b[39m1\u001b[39m)\n\u001b[1;32m     <a href='vscode-notebook-cell:/home/pietro/Desktop/cu/qarithmetic/closest_prime.ipynb#W3sZmlsZQ%3D%3D?line=55'>56</a>\u001b[0m qc\u001b[39m.\u001b[39mappend(is_prime_gate, [qc\u001b[39m.\u001b[39mnum_qubits\u001b[39m-\u001b[39m\u001b[39m1\u001b[39m] \u001b[39m+\u001b[39m \u001b[39mlist\u001b[39m(\u001b[39mrange\u001b[39m(\u001b[39m0\u001b[39m, \u001b[39m15\u001b[39m)))\n\u001b[1;32m     <a href='vscode-notebook-cell:/home/pietro/Desktop/cu/qarithmetic/closest_prime.ipynb#W3sZmlsZQ%3D%3D?line=57'>58</a>\u001b[0m \u001b[39m# cnot\u001b[39;00m\n",
      "File \u001b[0;32m/home/linuxbrew/.linuxbrew/Cellar/python@3.11/3.11.5/lib/python3.11/site-packages/qiskit/circuit/quantumcircuit.py:3210\u001b[0m, in \u001b[0;36mQuantumCircuit.to_gate\u001b[0;34m(self, parameter_map, label)\u001b[0m\n\u001b[1;32m   3192\u001b[0m \u001b[39m\u001b[39m\u001b[39m\"\"\"Create a :class:`.Gate` out of this circuit.  The circuit must act only qubits and\u001b[39;00m\n\u001b[1;32m   3193\u001b[0m \u001b[39mcontain only unitary operations.\u001b[39;00m\n\u001b[1;32m   3194\u001b[0m \n\u001b[0;32m   (...)\u001b[0m\n\u001b[1;32m   3206\u001b[0m \u001b[39m    Gate: a composite gate encapsulating this circuit (can be decomposed back).\u001b[39;00m\n\u001b[1;32m   3207\u001b[0m \u001b[39m\"\"\"\u001b[39;00m\n\u001b[1;32m   3208\u001b[0m \u001b[39mfrom\u001b[39;00m \u001b[39mqiskit\u001b[39;00m\u001b[39m.\u001b[39;00m\u001b[39mconverters\u001b[39;00m\u001b[39m.\u001b[39;00m\u001b[39mcircuit_to_gate\u001b[39;00m \u001b[39mimport\u001b[39;00m circuit_to_gate\n\u001b[0;32m-> 3210\u001b[0m \u001b[39mreturn\u001b[39;00m circuit_to_gate(\u001b[39mself\u001b[39;49m, parameter_map, label\u001b[39m=\u001b[39;49mlabel)\n",
      "File \u001b[0;32m/home/linuxbrew/.linuxbrew/Cellar/python@3.11/3.11.5/lib/python3.11/site-packages/qiskit/converters/circuit_to_gate.py:66\u001b[0m, in \u001b[0;36mcircuit_to_gate\u001b[0;34m(circuit, parameter_map, equivalence_library, label)\u001b[0m\n\u001b[1;32m     64\u001b[0m \u001b[39mfor\u001b[39;00m instruction \u001b[39min\u001b[39;00m circuit\u001b[39m.\u001b[39mdata:\n\u001b[1;32m     65\u001b[0m     \u001b[39mif\u001b[39;00m \u001b[39mnot\u001b[39;00m _check_is_gate(instruction\u001b[39m.\u001b[39moperation):\n\u001b[0;32m---> 66\u001b[0m         \u001b[39mraise\u001b[39;00m QiskitError(\n\u001b[1;32m     67\u001b[0m             \u001b[39m\"\u001b[39m\u001b[39mOne or more instructions cannot be converted to\u001b[39m\u001b[39m\"\u001b[39m\n\u001b[1;32m     68\u001b[0m             \u001b[39mf\u001b[39m\u001b[39m'\u001b[39m\u001b[39m a gate. \u001b[39m\u001b[39m\"\u001b[39m\u001b[39m{\u001b[39;00minstruction\u001b[39m.\u001b[39moperation\u001b[39m.\u001b[39mname\u001b[39m}\u001b[39;00m\u001b[39m\"\u001b[39m\u001b[39m is not a gate instruction\u001b[39m\u001b[39m'\u001b[39m\n\u001b[1;32m     69\u001b[0m         )\n\u001b[1;32m     71\u001b[0m \u001b[39mif\u001b[39;00m parameter_map \u001b[39mis\u001b[39;00m \u001b[39mNone\u001b[39;00m:\n\u001b[1;32m     72\u001b[0m     parameter_dict \u001b[39m=\u001b[39m {p: p \u001b[39mfor\u001b[39;00m p \u001b[39min\u001b[39;00m circuit\u001b[39m.\u001b[39mparameters}\n",
      "\u001b[0;31mQiskitError\u001b[0m: 'One or more instructions cannot be converted to a gate. \"barrier\" is not a gate instruction'"
     ]
    }
   ],
   "source": [
    "a = QuantumRegister(6)\n",
    "b = QuantumRegister(6)\n",
    "c = QuantumRegister(3)\n",
    "is_3 = QuantumRegister(1)\n",
    "is_prime = QuantumRegister(1)\n",
    "is_prime_c = ClassicalRegister(1)\n",
    "ca = ClassicalRegister(6)\n",
    "cb = ClassicalRegister(6)\n",
    "cc = ClassicalRegister(3)\n",
    "qc = QuantumCircuit(a,b,c,is_3, is_prime, ca,cb,cc, is_prime_c)\n",
    "\n",
    "# init\n",
    "\n",
    "# a = 3/4 = 000 100 / 000 011\n",
    "qc.h(a[0])\n",
    "\n",
    "qc.x(a[0])\n",
    "qc.cx(a[0], a[2])\n",
    "qc.x(a[0])\n",
    "\n",
    "qc.cx(a[0], a[1])\n",
    "\n",
    "# b = 2 # 010 000\n",
    "qc.x(b[4])\n",
    "\n",
    "\n",
    "# create the is_prime subroutine (in this simple case only look if the number is even or odd)\n",
    "is_prime_qc = QuantumCircuit(a, b, c, is_prime, name=\"/ 2\")\n",
    "\n",
    "div(is_prime_qc, a, b, c, 3)\n",
    "\n",
    "qc.append(is_prime_qc, list(range(0, 15)) + [qc.num_qubits-1])\n",
    "\n",
    "# cnot\n",
    "qc.cx(a[3], is_prime)\n",
    "\n",
    "qc.append(is_prime_qc.inverse(), list(range(0, 15)) + [qc.num_qubits-1])\n",
    "\n",
    "# +1 on non prime numbers\n",
    "qc.x(is_prime)\n",
    "\n",
    "# encode 1 in c\n",
    "qc.x(c[0])\n",
    "\n",
    "cadd(qc, is_prime, c, range(0, 3), 2)\n",
    "\n",
    "qc.x(c[0])\n",
    "\n",
    "# conditional is prime\n",
    "is_prime_qc = QuantumCircuit(a, b, c, name=\"/ 2\")\n",
    "\n",
    "div(is_prime_qc, a, b, c, 3)\n",
    "\n",
    "is_prime_gate = is_prime_qc.to_gate().control(1)\n",
    "\n",
    "qc.append(is_prime_gate, [qc.num_qubits-1] + list(range(0, 15)))\n",
    "\n",
    "# cnot\n",
    "qc.cx(a[3], is_prime)\n",
    "\n",
    "qc.append(is_prime_qc.inverse().to_gate().control(1), [qc.num_qubits-1] + list(range(0, 15)))\n",
    "\n",
    "\n",
    "# qc.barrier()\n",
    "\n",
    "qc.measure(a, (ca))\n",
    "qc.measure(b, (cb))\n",
    "qc.measure(c, (cc))\n",
    "qc.measure(is_prime, (is_prime_c))\n",
    "\n",
    "# Simulate the circuit.\n",
    "simulator = AerSimulator()\n",
    "qct = transpile(qc, simulator)\n",
    "# print(qct)\n",
    "\n",
    "result = Aer.get_backend('statevector_simulator').run(qct, shots=10).result()\n",
    "counts = result.get_counts()\n",
    "print(counts)\n",
    "print(qc)\n"
   ]
  },
  {
   "cell_type": "code",
   "execution_count": null,
   "metadata": {},
   "outputs": [
    {
     "name": "stdout",
     "output_type": "stream",
     "text": [
      "{'000 000000 000011': 512, '000 000000 000100': 512}\n"
     ]
    }
   ],
   "source": []
  }
 ],
 "metadata": {
  "kernelspec": {
   "display_name": "Python 3",
   "language": "python",
   "name": "python3"
  },
  "language_info": {
   "codemirror_mode": {
    "name": "ipython",
    "version": 3
   },
   "file_extension": ".py",
   "mimetype": "text/x-python",
   "name": "python",
   "nbconvert_exporter": "python",
   "pygments_lexer": "ipython3",
   "version": "3.11.5"
  }
 },
 "nbformat": 4,
 "nbformat_minor": 2
}
