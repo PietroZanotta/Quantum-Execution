{
 "cells": [
  {
   "cell_type": "code",
   "execution_count": 20,
   "metadata": {},
   "outputs": [
    {
     "data": {
      "text/plain": [
       "<qiskit.circuit.instructionset.InstructionSet at 0x7f5aae369a20>"
      ]
     },
     "execution_count": 20,
     "metadata": {},
     "output_type": "execute_result"
    }
   ],
   "source": [
    "from qiskit import QuantumCircuit, ClassicalRegister, QuantumRegister, transpile\n",
    "from qiskit_aer import AerSimulator, Aer\n",
    "from QArithmetic import add, cadd\n",
    "\n",
    "# Registers and circuit.\n",
    "a = QuantumRegister(4)\n",
    "b = QuantumRegister(4)\n",
    "anc = QuantumRegister(1)\n",
    "three = QuantumRegister(4)\n",
    "cb = ClassicalRegister(4)\n",
    "c3 = ClassicalRegister(2)\n",
    "qc = QuantumCircuit(a, b)\n",
    "qc_new = QuantumCircuit(a, b, anc, three, cb, c3)\n",
    "\n",
    "# init\n",
    "qc_new.h(a[0]) # a = 0000 to 0111\n",
    "qc_new.h(a[1])\n",
    "qc_new.h(a[2])\n",
    "\n",
    "qc_new.x(b[0]) # b = 0011\n",
    "qc_new.x(b[1])\n",
    "\n",
    "qc.barrier()\n",
    "\n",
    "# If\n",
    "add(qc, b, a, 3)\n",
    "\n",
    "qc_new.append(qc, range(0, qc.num_qubits))\n",
    "\n",
    "qc_new.cx(a[3], anc[0])\n",
    "\n",
    "qc_new.append(qc.inverse(), range(0, qc.num_qubits))\n",
    "\n",
    "# Encode 3\n",
    "qc_new.cx(anc[0], three[0])\n",
    "qc_new.cx(anc[0], three[1])\n",
    "\n",
    "# Else\n",
    "qc_new.x(anc[0])\n",
    "\n",
    "# Cadd +1\n",
    "qc_new.x(b[1]) # 0001\n",
    "cadd(qc_new, anc[0], b, a, 3)\n",
    "\n",
    "# Cond assignement\n",
    "cadd(qc_new, anc[0], a, three, 3)\n",
    "\n",
    "# Measure the results\n",
    "qc_new.measure(three, cb)\n",
    "# qc_new.measure(three, c3)\n"
   ]
  },
  {
   "cell_type": "code",
   "execution_count": 21,
   "metadata": {},
   "outputs": [
    {
     "name": "stdout",
     "output_type": "stream",
     "text": [
      "{'00 0001': 130, '00 0010': 123, '00 0101': 109, '00 0100': 150, '00 0011': 512}\n"
     ]
    }
   ],
   "source": [
    "# Simulate the circuit.\n",
    "simulator = AerSimulator()\n",
    "qct = transpile(qc_new, simulator)\n",
    "# print(qct)\n",
    "\n",
    "result = Aer.get_backend('statevector_simulator').run(qct, shots=1024).result()\n",
    "counts = result.get_counts()\n",
    "print(counts)"
   ]
  }
 ],
 "metadata": {
  "kernelspec": {
   "display_name": "Python 3",
   "language": "python",
   "name": "python3"
  },
  "language_info": {
   "codemirror_mode": {
    "name": "ipython",
    "version": 3
   },
   "file_extension": ".py",
   "mimetype": "text/x-python",
   "name": "python",
   "nbconvert_exporter": "python",
   "pygments_lexer": "ipython3",
   "version": "3.13.1"
  }
 },
 "nbformat": 4,
 "nbformat_minor": 2
}
