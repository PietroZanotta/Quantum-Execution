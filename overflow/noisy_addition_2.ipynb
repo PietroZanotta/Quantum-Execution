{
 "cells": [
  {
   "cell_type": "code",
   "execution_count": 1,
   "metadata": {},
   "outputs": [],
   "source": [
    "import numpy as np\n",
    "from qiskit.circuit.library import IQP\n",
    "from qiskit.transpiler.preset_passmanagers import generate_preset_pass_manager\n",
    "from qiskit_ibm_runtime import SamplerV2 as Sampler\n",
    "from qiskit_ibm_runtime import QiskitRuntimeService\n",
    "from qiskit_aer.noise import NoiseModel\n",
    "from qiskit.providers.fake_provider import GenericBackendV2\n",
    "from qiskit_aer import Aer, AerSimulator\n",
    "from qiskit_aer.primitives import Sampler as AerSampler\n",
    "from qiskit_algorithms.utils import algorithm_globals\n",
    "from qiskit import QuantumRegister, ClassicalRegister, QuantumCircuit, transpile\n",
    "from QArithmetic import add\n",
    "from qiskit_aer.noise import NoiseModel\n",
    "\n",
    "service = QiskitRuntimeService(channel=\"ibm_quantum\", token=\"1336d138b570f37346d77ce4ace61b5f0018533ac50ded70e1d593d493669775f85bc98e77ca6c23bdf2bbbe590d93dda6e67d7ab5b8f23cfb1b78270ffaf562\")\n",
    "backend = service.least_busy(operational=True, simulator=False, min_num_qubits=10)\n",
    " \n",
    "sampler = Sampler(mode=backend)\n",
    "\n",
    "a = QuantumRegister(2)\n",
    "b = QuantumRegister(3)\n",
    "cb = ClassicalRegister(3)\n",
    "qc = QuantumCircuit(a, b, cb)\n",
    "\n",
    "# Numbers to add.\n",
    "# qc.x(a[1]) # a = 01\n",
    "qc.x(a[0])\n",
    "# qc.x(a[3])\n",
    "qc.h(b[0]) # b = 011 / 010\n",
    "qc.x(b[1])\n",
    "# qc.x(b[3])\n",
    "\n",
    "# Add the numbers, so |a>|b> to |a>|a+b>.\n",
    "add(qc, a, b, 2)\n",
    "\n",
    "# Measure the results.\n"
   ]
  },
  {
   "cell_type": "code",
   "execution_count": 2,
   "metadata": {},
   "outputs": [
    {
     "ename": "NameError",
     "evalue": "name 'depolarizing_error' is not defined",
     "output_type": "error",
     "traceback": [
      "\u001b[0;31m---------------------------------------------------------------------------\u001b[0m",
      "\u001b[0;31mNameError\u001b[0m                                 Traceback (most recent call last)",
      "\u001b[1;32m/home/pietro/Desktop/cu/overflow/noisy_addition_2.ipynb Cell 2\u001b[0m line \u001b[0;36m1\n\u001b[1;32m      <a href='vscode-notebook-cell:/home/pietro/Desktop/cu/overflow/noisy_addition_2.ipynb#W1sZmlsZQ%3D%3D?line=6'>7</a>\u001b[0m noise_model \u001b[39m=\u001b[39m NoiseModel()\n\u001b[1;32m      <a href='vscode-notebook-cell:/home/pietro/Desktop/cu/overflow/noisy_addition_2.ipynb#W1sZmlsZQ%3D%3D?line=7'>8</a>\u001b[0m cx_depolarizing_prob \u001b[39m=\u001b[39m \u001b[39m0.02\u001b[39m\n\u001b[1;32m      <a href='vscode-notebook-cell:/home/pietro/Desktop/cu/overflow/noisy_addition_2.ipynb#W1sZmlsZQ%3D%3D?line=8'>9</a>\u001b[0m noise_model\u001b[39m.\u001b[39madd_all_qubit_quantum_error(\n\u001b[0;32m---> <a href='vscode-notebook-cell:/home/pietro/Desktop/cu/overflow/noisy_addition_2.ipynb#W1sZmlsZQ%3D%3D?line=9'>10</a>\u001b[0m     depolarizing_error(cx_depolarizing_prob, \u001b[39m2\u001b[39m), [\u001b[39m\"\u001b[39m\u001b[39mcx\u001b[39m\u001b[39m\"\u001b[39m]\n\u001b[1;32m     <a href='vscode-notebook-cell:/home/pietro/Desktop/cu/overflow/noisy_addition_2.ipynb#W1sZmlsZQ%3D%3D?line=10'>11</a>\u001b[0m )\n\u001b[1;32m     <a href='vscode-notebook-cell:/home/pietro/Desktop/cu/overflow/noisy_addition_2.ipynb#W1sZmlsZQ%3D%3D?line=12'>13</a>\u001b[0m noisy_sampler \u001b[39m=\u001b[39m Sampler(options\u001b[39m=\u001b[39m\u001b[39mdict\u001b[39m(backend_options\u001b[39m=\u001b[39m\u001b[39mdict\u001b[39m(noise_model\u001b[39m=\u001b[39mnoise_model)))\n\u001b[1;32m     <a href='vscode-notebook-cell:/home/pietro/Desktop/cu/overflow/noisy_addition_2.ipynb#W1sZmlsZQ%3D%3D?line=13'>14</a>\u001b[0m \u001b[39m# The circuit needs to be transpiled to the AerSimulator target\u001b[39;00m\n",
      "\u001b[0;31mNameError\u001b[0m: name 'depolarizing_error' is not defined"
     ]
    }
   ],
   "source": [
    "from qiskit.quantum_info import hellinger_fidelity\n",
    "from qiskit_aer.primitives import SamplerV2 as Sampler\n",
    "\n",
    "measured_circuit = qc.copy()\n",
    "measured_circuit.measure_all()\n",
    "\n",
    "noise_model = NoiseModel()\n",
    "cx_depolarizing_prob = 0.02\n",
    "noise_model.add_all_qubit_quantum_error(\n",
    "    depolarizing_error(cx_depolarizing_prob, 2), [\"cx\"]\n",
    ")\n",
    "\n",
    "noisy_sampler = Sampler(options=dict(backend_options=dict(noise_model=noise_model)))\n",
    "# The circuit needs to be transpiled to the AerSimulator target\n",
    "pass_manager = generate_preset_pass_manager(3, AerSimulator())\n",
    "isa_circuit = pass_manager.run(measured_circuit)\n",
    "pub = (isa_circuit)\n",
    "job = noisy_sampler.run([pub])\n",
    "result = job.result()\n",
    "pub_result = result[0]\n",
    "pub_result.data.meas.get_counts()\n",
    "\n",
    "# exp: 100 01, 011 01"
   ]
  },
  {
   "cell_type": "code",
   "execution_count": 27,
   "metadata": {},
   "outputs": [
    {
     "name": "stdout",
     "output_type": "stream",
     "text": [
      "       ┌───┐                                                              »\n",
      "q20_0: ┤ X ├───────────────────────────────────────────────■──────────────»\n",
      "       └───┘                                               │              »\n",
      "q20_1: ──────────────────────────────────────■─────────────┼────────■─────»\n",
      "       ┌───┐                                 │       ┌───┐ │        │     »\n",
      "q21_0: ┤ H ├──────────■─────────────■────────┼───────┤ H ├─┼────────┼─────»\n",
      "       ├───┤          │       ┌───┐ │P(π/2)  │       └───┘ │        │P(π) »\n",
      "q21_1: ┤ X ├─■────────┼───────┤ H ├─■────────┼─────────────┼────────■─────»\n",
      "       ├───┤ │P(π/2)  │P(π/4) └───┘          │P(π/2)       │P(π/4)        »\n",
      "q21_2: ┤ H ├─■────────■──────────────────────■─────────────■──────────────»\n",
      "       └───┘                                                              »\n",
      " c3: 3/═══════════════════════════════════════════════════════════════════»\n",
      "                                                                          »\n",
      "«                                                                             \n",
      "«q20_0: ─■────────■───────────────────────────────────────────────────────────\n",
      "«        │        │                                                           \n",
      "«q20_1: ─┼────────┼───────────────────────────────────────────────────────────\n",
      "«        │        │P(π) ┌───┐                                   ┌─┐           \n",
      "«q21_0: ─┼────────■─────┤ H ├─■──────────────■──────────────────┤M├───────────\n",
      "«        │P(π/2)        └───┘ │P(-π/2) ┌───┐ │                  └╥┘     ┌─┐   \n",
      "«q21_1: ─■────────────────────■────────┤ H ├─┼─────────■─────────╫──────┤M├───\n",
      "«                                      └───┘ │P(-π/4)  │P(-π/2)  ║ ┌───┐└╥┘┌─┐\n",
      "«q21_2: ─────────────────────────────────────■─────────■─────────╫─┤ H ├─╫─┤M├\n",
      "«                                                                ║ └───┘ ║ └╥┘\n",
      "« c3: 3/═════════════════════════════════════════════════════════╩═══════╩══╩═\n",
      "«                                                                0       1  2 \n"
     ]
    }
   ],
   "source": [
    "print(qc)"
   ]
  }
 ],
 "metadata": {
  "kernelspec": {
   "display_name": "Python 3",
   "language": "python",
   "name": "python3"
  },
  "language_info": {
   "codemirror_mode": {
    "name": "ipython",
    "version": 3
   },
   "file_extension": ".py",
   "mimetype": "text/x-python",
   "name": "python",
   "nbconvert_exporter": "python",
   "pygments_lexer": "ipython3",
   "version": "3.11.5"
  }
 },
 "nbformat": 4,
 "nbformat_minor": 2
}
