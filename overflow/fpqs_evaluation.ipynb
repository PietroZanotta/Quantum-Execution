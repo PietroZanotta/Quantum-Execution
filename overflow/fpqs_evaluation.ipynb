{
 "cells": [
  {
   "cell_type": "code",
   "execution_count": null,
   "metadata": {},
   "outputs": [],
   "source": [
    "from overflow1_new import simulate_classical_circ as sim1\n",
    "from overflow2 import simulate_classical_circ as sim2\n",
    "from overflow3_new import simulate_classical_circ as sim3\n",
    "from overflow4 import simulate_classical_circ as sim4\n",
    "from overflow_mod import simulate_classical_circ as simMod\n",
    "from overflow_mult import simulate_classical_circ as simMult\n",
    "from overflow_div import simulate_classical_circ as simDiv\n",
    "\n",
    "# # 1: 95\n",
    "sim1(n_shots=100)\n",
    "\n",
    "# # 2: 99\n",
    "# sim2(n_shots=100)\n",
    "\n",
    "# # 3: 98\n",
    "# sim3(n_shots=100)\n",
    "\n",
    "# # 4: 94\n",
    "# sim4(n_shots=100)\n",
    "\n",
    "# mod:\n",
    "# simMod(n_shots=100)\n",
    "\n",
    "# mult: 95\n",
    "# simMult(n_shots=100)\n",
    "\n",
    "# div: 94\n",
    "# simDiv(n_shots=100)"
   ]
  }
 ],
 "metadata": {
  "language_info": {
   "name": "python"
  }
 },
 "nbformat": 4,
 "nbformat_minor": 2
}
